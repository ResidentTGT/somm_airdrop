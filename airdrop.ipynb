{
  "nbformat": 4,
  "nbformat_minor": 0,
  "metadata": {
    "colab": {
      "name": "airdrop_data.ipynb",
      "provenance": []
    },
    "kernelspec": {
      "name": "python3",
      "display_name": "Python 3"
    },
    "language_info": {
      "name": "python"
    }
  },
  "cells": [
    {
      "cell_type": "code",
      "metadata": {
        "colab": {
          "base_uri": "https://localhost:8080/"
        },
        "id": "CkXyHjzqnB1y",
        "outputId": "e07f74f2-fd7f-47b0-ad8e-a36340498593"
      },
      "source": [
        "import os \n",
        "import pandas as pd\n",
        "from typing import List\n",
        "\n",
        "def clone_github_repo():\n",
        "    !git clone https://github.com/VolumeFi/somm_airdrop.git\n",
        "    !ls\n",
        "  \n",
        "bucket_url: str = \"https://storage.googleapis.com/airdrop_data/\"\n",
        "data_file_names: List[str] = [\n",
        "    \"osmosis_snapshot.json\", \"somm_v2_burns.csv\", \"somm_v2_mints.csv\", \n",
        "    \"somm_v3_burns.csv\", \"somm_v3_mints.csv\", \"uniswap_v2_burns.csv\", \n",
        "    \"uniswap_v2_mints.csv\", \"uniswap_v2_pairs.csv\", \"uniswap_v3_burns.csv\", \n",
        "    \"uniswap_v3_mints.csv\", \"uniswap_v3_pools.csv\", \"token_info.json\"]\n",
        "data_urls = [bucket_url + fname for fname in data_file_names]"
      ],
      "execution_count": 12,
      "outputs": [
        {
          "output_type": "stream",
          "name": "stdout",
          "text": [
            "Cloning into 'somm_airdrop'...\n",
            "remote: Enumerating objects: 670, done.\u001b[K\n",
            "remote: Counting objects: 100% (670/670), done.\u001b[K\n",
            "remote: Compressing objects: 100% (354/354), done.\u001b[K\n",
            "remote: Total 670 (delta 344), reused 555 (delta 270), pack-reused 0\u001b[K\n",
            "Receiving objects: 100% (670/670), 2.19 MiB | 5.74 MiB/s, done.\n",
            "Resolving deltas: 100% (344/344), done.\n",
            "somm_airdrop\n"
          ]
        }
      ]
    },
    {
      "cell_type": "code",
      "metadata": {
        "colab": {
          "base_uri": "https://localhost:8080/",
          "height": 35
        },
        "id": "Wsd4yY6C7413",
        "outputId": "28af6505-cf2a-4820-c6ad-2e22bad3911f"
      },
      "source": [
        "clone_github_repo()\n",
        "\n",
        "if not os.path.exists(\"data\"):\n",
        "    os.chdir(\"somm_airdrop\")\n",
        "    os.mkdir(\"data\")\n",
        "\n",
        "for idx, data_url in enumerate(data_urls):\n",
        "    os.system(f\"curl {data_url} --output {os.path.join('data', data_file_names[idx])}\")\n",
        "\n",
        "assert all([os.path.exists(os.path.join(\"data\", fname)) for fname in data_file_names])\n",
        "\n",
        "print(\"Computing token rewards:\")\n",
        "reward_files = [\"uniswap_rewards.py\", \"somm_app_rewards.py\", \"osmosis_rewards.py\"]\n",
        "os.chdir(\"somm_airdrop\")\n",
        "for reward_file in reward_files:\n",
        "    os.system(f\"python {reward_file}\") "
      ],
      "execution_count": 13,
      "outputs": [
        {
          "output_type": "execute_result",
          "data": {
            "application/vnd.google.colaboratory.intrinsic+json": {
              "type": "string"
            },
            "text/plain": [
              "'/content/somm_airdrop'"
            ]
          },
          "metadata": {},
          "execution_count": 13
        }
      ]
    }
  ]
}